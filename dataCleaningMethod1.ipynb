{
 "cells": [
  {
   "cell_type": "code",
   "execution_count": 11,
   "id": "ebda7ce7-0c10-4301-b7bd-3322c837ab25",
   "metadata": {},
   "outputs": [],
   "source": [
    "import pandas as pd\n",
    "import numpy as np\n",
    "df = pd.read_csv('ad_click_dataset.csv')\n"
   ]
  },
  {
   "cell_type": "code",
   "execution_count": 12,
   "id": "fc03f734-a9dd-4813-8623-f5e79aa12dc3",
   "metadata": {},
   "outputs": [
    {
     "data": {
      "text/html": [
       "<div>\n",
       "<style scoped>\n",
       "    .dataframe tbody tr th:only-of-type {\n",
       "        vertical-align: middle;\n",
       "    }\n",
       "\n",
       "    .dataframe tbody tr th {\n",
       "        vertical-align: top;\n",
       "    }\n",
       "\n",
       "    .dataframe thead th {\n",
       "        text-align: right;\n",
       "    }\n",
       "</style>\n",
       "<table border=\"1\" class=\"dataframe\">\n",
       "  <thead>\n",
       "    <tr style=\"text-align: right;\">\n",
       "      <th></th>\n",
       "      <th>id</th>\n",
       "      <th>full_name</th>\n",
       "      <th>age</th>\n",
       "      <th>gender</th>\n",
       "      <th>device_type</th>\n",
       "      <th>ad_position</th>\n",
       "      <th>browsing_history</th>\n",
       "      <th>time_of_day</th>\n",
       "      <th>click</th>\n",
       "    </tr>\n",
       "  </thead>\n",
       "  <tbody>\n",
       "    <tr>\n",
       "      <th>0</th>\n",
       "      <td>670</td>\n",
       "      <td>User670</td>\n",
       "      <td>22.0</td>\n",
       "      <td>NaN</td>\n",
       "      <td>Desktop</td>\n",
       "      <td>Top</td>\n",
       "      <td>Shopping</td>\n",
       "      <td>Afternoon</td>\n",
       "      <td>1</td>\n",
       "    </tr>\n",
       "    <tr>\n",
       "      <th>1</th>\n",
       "      <td>3044</td>\n",
       "      <td>User3044</td>\n",
       "      <td>NaN</td>\n",
       "      <td>Male</td>\n",
       "      <td>Desktop</td>\n",
       "      <td>Top</td>\n",
       "      <td>NaN</td>\n",
       "      <td>NaN</td>\n",
       "      <td>1</td>\n",
       "    </tr>\n",
       "    <tr>\n",
       "      <th>2</th>\n",
       "      <td>5912</td>\n",
       "      <td>User5912</td>\n",
       "      <td>41.0</td>\n",
       "      <td>Non-Binary</td>\n",
       "      <td>NaN</td>\n",
       "      <td>Side</td>\n",
       "      <td>Education</td>\n",
       "      <td>Night</td>\n",
       "      <td>1</td>\n",
       "    </tr>\n",
       "    <tr>\n",
       "      <th>3</th>\n",
       "      <td>5418</td>\n",
       "      <td>User5418</td>\n",
       "      <td>34.0</td>\n",
       "      <td>Male</td>\n",
       "      <td>NaN</td>\n",
       "      <td>NaN</td>\n",
       "      <td>Entertainment</td>\n",
       "      <td>Evening</td>\n",
       "      <td>1</td>\n",
       "    </tr>\n",
       "    <tr>\n",
       "      <th>4</th>\n",
       "      <td>9452</td>\n",
       "      <td>User9452</td>\n",
       "      <td>39.0</td>\n",
       "      <td>Non-Binary</td>\n",
       "      <td>NaN</td>\n",
       "      <td>NaN</td>\n",
       "      <td>Social Media</td>\n",
       "      <td>Morning</td>\n",
       "      <td>0</td>\n",
       "    </tr>\n",
       "  </tbody>\n",
       "</table>\n",
       "</div>"
      ],
      "text/plain": [
       "     id full_name   age      gender device_type ad_position browsing_history  \\\n",
       "0   670   User670  22.0         NaN     Desktop         Top         Shopping   \n",
       "1  3044  User3044   NaN        Male     Desktop         Top              NaN   \n",
       "2  5912  User5912  41.0  Non-Binary         NaN        Side        Education   \n",
       "3  5418  User5418  34.0        Male         NaN         NaN    Entertainment   \n",
       "4  9452  User9452  39.0  Non-Binary         NaN         NaN     Social Media   \n",
       "\n",
       "  time_of_day  click  \n",
       "0   Afternoon      1  \n",
       "1         NaN      1  \n",
       "2       Night      1  \n",
       "3     Evening      1  \n",
       "4     Morning      0  "
      ]
     },
     "execution_count": 12,
     "metadata": {},
     "output_type": "execute_result"
    }
   ],
   "source": [
    "df.head()"
   ]
  },
  {
   "cell_type": "code",
   "execution_count": 3,
   "id": "25527144-9bb0-4451-a42c-f7c6d119d20e",
   "metadata": {},
   "outputs": [
    {
     "data": {
      "text/plain": [
       "(10000, 9)"
      ]
     },
     "execution_count": 3,
     "metadata": {},
     "output_type": "execute_result"
    }
   ],
   "source": [
    "df.shape"
   ]
  },
  {
   "cell_type": "code",
   "execution_count": 4,
   "id": "d766f17f-6a31-41ba-9a1d-c436f8c6160d",
   "metadata": {},
   "outputs": [
    {
     "data": {
      "text/plain": [
       "Index(['id', 'full_name', 'age', 'gender', 'device_type', 'ad_position',\n",
       "       'browsing_history', 'time_of_day', 'click'],\n",
       "      dtype='object')"
      ]
     },
     "execution_count": 4,
     "metadata": {},
     "output_type": "execute_result"
    }
   ],
   "source": [
    "df.columns"
   ]
  },
  {
   "cell_type": "code",
   "execution_count": 5,
   "id": "6be9009c-f7eb-4426-b934-194af813bda8",
   "metadata": {},
   "outputs": [
    {
     "data": {
      "text/plain": [
       "id                     0\n",
       "full_name              0\n",
       "age                 4766\n",
       "gender              4693\n",
       "device_type         2000\n",
       "ad_position         2000\n",
       "browsing_history    4782\n",
       "time_of_day         2000\n",
       "click                  0\n",
       "dtype: int64"
      ]
     },
     "execution_count": 5,
     "metadata": {},
     "output_type": "execute_result"
    }
   ],
   "source": [
    "df.isnull().sum()"
   ]
  },
  {
   "cell_type": "code",
   "execution_count": 6,
   "id": "cbfeba88-570a-4fbc-a70b-c0a99f7b9f44",
   "metadata": {},
   "outputs": [
    {
     "data": {
      "text/plain": [
       "gender\n",
       "Female        1834\n",
       "Male          1810\n",
       "Non-Binary    1663\n",
       "Name: count, dtype: int64"
      ]
     },
     "execution_count": 6,
     "metadata": {},
     "output_type": "execute_result"
    }
   ],
   "source": [
    "df['gender'].value_counts()"
   ]
  },
  {
   "cell_type": "markdown",
   "id": "269baea5-2bfd-44eb-beb2-7cf7438ba24c",
   "metadata": {},
   "source": [
    "----------------------------------------------------\n",
    "Methods to handle missing values\n",
    "1. Ignore missing values row / delete row\n",
    "2. fill missing value manually\n",
    "3. global constant\n",
    "4. measure of central tendency ( mean, midian & mode)\n",
    "5. most probable value (ML Algorithms)\n",
    "-----------------------------------------------------"
   ]
  },
  {
   "cell_type": "code",
   "execution_count": 7,
   "id": "7cb1c5b6-f3c9-4772-83d0-b82d0b78dcd5",
   "metadata": {},
   "outputs": [],
   "source": [
    "# Impute missing gender with the most frequent value (mode)\n",
    "# most_frequent_gender = df['gender'].mode()[0]\n",
    "# df['gender'].fillna(most_frequent_gender, inplace=True)\n",
    "# df['gender']\n",
    "\n",
    "# Drop rows with missing gender values\n",
    "df.dropna(subset=['gender'], inplace=True)\n"
   ]
  },
  {
   "cell_type": "markdown",
   "id": "ab1a3094-f069-4459-992b-4240c4291169",
   "metadata": {},
   "source": [
    "To check missing values in a percentange"
   ]
  },
  {
   "cell_type": "code",
   "execution_count": 8,
   "id": "8f953b58-ebae-4f4e-a5ff-28872615fdab",
   "metadata": {},
   "outputs": [
    {
     "data": {
      "text/plain": [
       "id                   0.000000\n",
       "full_name            0.000000\n",
       "age                 48.219333\n",
       "gender               0.000000\n",
       "device_type         19.634445\n",
       "ad_position         20.463539\n",
       "browsing_history    46.278500\n",
       "time_of_day         19.615602\n",
       "click                0.000000\n",
       "dtype: float64"
      ]
     },
     "execution_count": 8,
     "metadata": {},
     "output_type": "execute_result"
    }
   ],
   "source": [
    "null_var = df.isnull().sum()/df.shape[0] *100\n",
    "null_var"
   ]
  },
  {
   "cell_type": "markdown",
   "id": "f33ede36-3ea6-4a51-9633-51e9f1e1c1ce",
   "metadata": {},
   "source": [
    "## drop(): Drop columns based on condition, if column contain missing values is more than 20% then it will delete that column"
   ]
  },
  {
   "cell_type": "code",
   "execution_count": 9,
   "id": "b1980411-1122-4edc-aab3-efbec5d05e40",
   "metadata": {},
   "outputs": [
    {
     "data": {
      "text/plain": [
       "Index(['age', 'ad_position', 'browsing_history'], dtype='object')"
      ]
     },
     "execution_count": 9,
     "metadata": {},
     "output_type": "execute_result"
    }
   ],
   "source": [
    "drop_columns = null_var[null_var > 20 ].keys()\n",
    "drop_columns"
   ]
  },
  {
   "cell_type": "code",
   "execution_count": 12,
   "id": "1a7a23c1-e899-4a46-a82f-d28d8700593a",
   "metadata": {},
   "outputs": [],
   "source": [
    "df2_drop_clm = df.drop(columns = drop_columns)"
   ]
  },
  {
   "cell_type": "code",
   "execution_count": 13,
   "id": "f6060bd5-698f-4b18-b4b0-9d43061d0baf",
   "metadata": {},
   "outputs": [
    {
     "data": {
      "text/plain": [
       "(5307, 6)"
      ]
     },
     "execution_count": 13,
     "metadata": {},
     "output_type": "execute_result"
    }
   ],
   "source": [
    "df2_drop_clm.shape"
   ]
  },
  {
   "cell_type": "code",
   "execution_count": 14,
   "id": "9fb2426b-1342-4b47-8da8-e5a8e917ea05",
   "metadata": {},
   "outputs": [
    {
     "data": {
      "text/plain": [
       "np.int64(2559)"
      ]
     },
     "execution_count": 14,
     "metadata": {},
     "output_type": "execute_result"
    }
   ],
   "source": [
    "df['age'].isnull().sum()"
   ]
  },
  {
   "cell_type": "markdown",
   "id": "731cdfae-ffa2-4a61-83c0-a8338406ec9d",
   "metadata": {},
   "source": [
    "### 4. Drop rows(threshold-based) missing values in more than 50% of their columns"
   ]
  },
  {
   "cell_type": "code",
   "execution_count": 13,
   "id": "04581206-2806-445d-8f2c-15e23533b140",
   "metadata": {},
   "outputs": [
    {
     "data": {
      "text/plain": [
       "(10000, 9)"
      ]
     },
     "execution_count": 13,
     "metadata": {},
     "output_type": "execute_result"
    }
   ],
   "source": [
    "df.shape"
   ]
  },
  {
   "cell_type": "code",
   "execution_count": 14,
   "id": "2c65be02-24bd-4ed6-8379-f66e40ad1a0f",
   "metadata": {},
   "outputs": [
    {
     "data": {
      "text/plain": [
       "(9860, 9)"
      ]
     },
     "execution_count": 14,
     "metadata": {},
     "output_type": "execute_result"
    }
   ],
   "source": [
    "data_cleaned = df.dropna(thresh=df.shape[1] * 0.5)\n",
    "data_cleaned.shape"
   ]
  },
  {
   "cell_type": "markdown",
   "id": "7448c5c4-2a93-4de9-9537-ac7efddd581a",
   "metadata": {},
   "source": [
    "## dropna() ----> To delete entire rows "
   ]
  },
  {
   "cell_type": "code",
   "execution_count": 15,
   "id": "1f51c478-7980-4c46-be39-53943d24eab4",
   "metadata": {},
   "outputs": [],
   "source": [
    "df3_drop_rows = df.dropna()"
   ]
  },
  {
   "cell_type": "code",
   "execution_count": 16,
   "id": "d7cc2dd8-3e2c-40d9-b75c-b255ca46f9a3",
   "metadata": {},
   "outputs": [
    {
     "data": {
      "text/plain": [
       "(816, 9)"
      ]
     },
     "execution_count": 16,
     "metadata": {},
     "output_type": "execute_result"
    }
   ],
   "source": [
    "df3_drop_rows.shape"
   ]
  },
  {
   "cell_type": "code",
   "execution_count": 17,
   "id": "47dfd8fc-1e91-4661-8bac-b89c0846823f",
   "metadata": {},
   "outputs": [
    {
     "data": {
      "text/plain": [
       "id                  0\n",
       "full_name           0\n",
       "age                 0\n",
       "gender              0\n",
       "device_type         0\n",
       "ad_position         0\n",
       "browsing_history    0\n",
       "time_of_day         0\n",
       "click               0\n",
       "dtype: int64"
      ]
     },
     "execution_count": 17,
     "metadata": {},
     "output_type": "execute_result"
    }
   ],
   "source": [
    "df3_drop_rows.isnull().sum()"
   ]
  },
  {
   "cell_type": "code",
   "execution_count": 18,
   "id": "7427b031-53a0-43aa-b039-1dd05c5d34f8",
   "metadata": {},
   "outputs": [
    {
     "data": {
      "text/plain": [
       "np.int64(0)"
      ]
     },
     "execution_count": 18,
     "metadata": {},
     "output_type": "execute_result"
    }
   ],
   "source": [
    "df3_drop_rows.isnull().sum().sum()"
   ]
  },
  {
   "cell_type": "code",
   "execution_count": 19,
   "id": "d707c076-6431-48a6-9f6b-43cc8ccf931d",
   "metadata": {},
   "outputs": [
    {
     "data": {
      "text/plain": [
       "Index(['id', 'age', 'click'], dtype='object')"
      ]
     },
     "execution_count": 19,
     "metadata": {},
     "output_type": "execute_result"
    }
   ],
   "source": [
    "df3_drop_rows.select_dtypes(include=[np.number]).columns"
   ]
  },
  {
   "cell_type": "markdown",
   "id": "26cf29dd-e1d4-41d0-ae77-b8c9fc6bc585",
   "metadata": {},
   "source": [
    "Let's compare dataframe before cleaning with after cleaning using graph"
   ]
  },
  {
   "cell_type": "code",
   "execution_count": null,
   "id": "3c4b1824-9bfe-4733-bf0d-ef72c0613626",
   "metadata": {},
   "outputs": [],
   "source": [
    "import matplotlib.pyplot as plt\n",
    "import seaborn as sns"
   ]
  },
  {
   "cell_type": "markdown",
   "id": "2ff93ca4-9fc1-4940-a821-74647d6ae8d6",
   "metadata": {},
   "source": [
    "original dataframe"
   ]
  },
  {
   "cell_type": "code",
   "execution_count": null,
   "id": "ab4759b5-690f-4914-a243-16d55ec7ccad",
   "metadata": {},
   "outputs": [],
   "source": [
    "sns.histplot(df['id'])"
   ]
  },
  {
   "cell_type": "markdown",
   "id": "abe0e68e-3ffc-40cd-81f9-de707bcccf64",
   "metadata": {},
   "source": [
    "Cleaned dataframe"
   ]
  },
  {
   "cell_type": "code",
   "execution_count": null,
   "id": "d7bc8275-c000-479f-af6d-9d05de8befbe",
   "metadata": {},
   "outputs": [],
   "source": [
    "sns.histplot(df3_drop_rows['id'])"
   ]
  },
  {
   "cell_type": "code",
   "execution_count": null,
   "id": "364c69b8-b6b7-4169-8c63-acdf5b80183a",
   "metadata": {},
   "outputs": [],
   "source": [
    "sns.histplot(df['id'])\n",
    "sns.histplot(df3_drop_rows['id'])"
   ]
  },
  {
   "cell_type": "markdown",
   "id": "07f1301f-f1a3-4563-af38-51381d813760",
   "metadata": {},
   "source": [
    "There are too much difference after removing null values so dropna is not good for everytime or for large number of null values"
   ]
  },
  {
   "cell_type": "markdown",
   "id": "c6cc0d22-56c9-429d-84e9-553d2972a7fa",
   "metadata": {},
   "source": [
    "So let's use method 2 for using this data"
   ]
  },
  {
   "cell_type": "code",
   "execution_count": null,
   "id": "3bfe4bc2-775b-455c-bebb-82fb520fc1c0",
   "metadata": {},
   "outputs": [],
   "source": []
  }
 ],
 "metadata": {
  "kernelspec": {
   "display_name": "Python 3 (ipykernel)",
   "language": "python",
   "name": "python3"
  },
  "language_info": {
   "codemirror_mode": {
    "name": "ipython",
    "version": 3
   },
   "file_extension": ".py",
   "mimetype": "text/x-python",
   "name": "python",
   "nbconvert_exporter": "python",
   "pygments_lexer": "ipython3",
   "version": "3.9.0"
  }
 },
 "nbformat": 4,
 "nbformat_minor": 5
}
