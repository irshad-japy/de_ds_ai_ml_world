{
 "cells": [
  {
   "cell_type": "markdown",
   "id": "b7f69af9-d103-4cad-a7a2-e48a9032a1f2",
   "metadata": {},
   "source": [
    "## Numpy\n",
    "##### NumPy (Numerical Python) is a fundamental Python library for numerical computing. It offers support for large, multi-dimensional arrays and matrices, along with a wide range of mathematical functions to manipulate these arrays. NumPy serves as the backbone for many other data science and machine learning libraries, including Pandas, SciPy, and TensorFlow."
   ]
  },
  {
   "cell_type": "markdown",
   "id": "bc859604-d111-492c-9f2f-603f417f3fc1",
   "metadata": {},
   "source": [
    "# Why Numpy\n",
    "##### NumPy is popular because it can handle large datasets efficiently. Unlike Python lists, NumPy arrays (ndarrays) use less memory and work faster for math-related tasks. This makes it especially useful for big data projects in areas like data science, machine learning, and scientific research."
   ]
  },
  {
   "cell_type": "markdown",
   "id": "f8b2b475-50cc-4370-886c-03c483a2a592",
   "metadata": {},
   "source": [
    "## What This Library Does\n",
    "#### N-dimensional Arrays (ndarray)\n",
    "#### Explanation:\n",
    "##### The main data structure in NumPy is the ndarray, which stands for \"N-dimensional array.\" Unlike a standard matrix, an ndarray can have any number of dimensions, making it highly versatile for different types of data manipulation.\n",
    "\n",
    "#### Why Use NumPy Arrays Instead of Python Lists?\n",
    "##### Homogeneous Data: NumPy arrays are designed to store data of the same type, which makes them more memory-efficient and faster to process compared to Python lists that can hold mixed data types.\n",
    "\n",
    "##### Vectorized Operations: Operations on NumPy arrays are automatically applied element-wise, known as vectorization. This allows you to avoid writing explicit loops, making the code simpler and more efficient.\n",
    "\n",
    "##### Broadcasting: NumPy allows you to perform operations on arrays with different shapes and sizes without needing to resize or copy them manually. This feature, called broadcasting, simplifies many types of calculations."
   ]
  },
  {
   "cell_type": "markdown",
   "id": "d1693284-d10e-4964-8f13-3054a4c09f9c",
   "metadata": {},
   "source": [
    "\n",
    "## When should you use NumPy?\n",
    "\n",
    "##### NumPy is ideal when working with numerical data and performing mathematical operations. It is especially helpful for:\n",
    "\n",
    "#### Array Handling: NumPy offers flexible tools for creating, reshaping, and manipulating arrays.\n",
    "\n",
    "#### Mathematical Operations: It provides a variety of mathematical functions, including statistics, algebra, and trigonometry.\n",
    "\n",
    "#### Efficiency: Optimized for performance, NumPy is well-suited for handling large datasets efficiently."
   ]
  },
  {
   "cell_type": "code",
   "execution_count": null,
   "id": "e304aa8a-61bd-42bc-8b0d-8b5d185b4532",
   "metadata": {},
   "outputs": [],
   "source": [
    "# Creating a 1D array"
   ]
  },
  {
   "cell_type": "code",
   "execution_count": 23,
   "id": "546d4e9d-12a3-4dd0-b001-0255be4006cc",
   "metadata": {},
   "outputs": [
    {
     "name": "stdout",
     "output_type": "stream",
     "text": [
      "[1 2 3 4 5]\n"
     ]
    },
    {
     "data": {
      "text/plain": [
       "numpy.ndarray"
      ]
     },
     "execution_count": 23,
     "metadata": {},
     "output_type": "execute_result"
    }
   ],
   "source": [
    "import numpy as np\n",
    "\n",
    "array_1d = np.array([1, 2, 3, 4, 5])\n",
    "print(array_1d)\n",
    "type(array_1d)"
   ]
  },
  {
   "cell_type": "markdown",
   "id": "d845597e-ab9d-4847-b677-4d8e99970196",
   "metadata": {},
   "source": [
    "# 3D Array"
   ]
  },
  {
   "cell_type": "code",
   "execution_count": 25,
   "id": "9b0c1aef-6751-4ea8-82b0-7370b2a08872",
   "metadata": {},
   "outputs": [
    {
     "name": "stdout",
     "output_type": "stream",
     "text": [
      "[[1 2 3]\n",
      " [4 5 6]]\n"
     ]
    }
   ],
   "source": [
    "# Creating a 2D Numpy array (matrix)\n",
    "matrix = np.array([[1, 2, 3], [4, 5, 6]])\n",
    "print(matrix)"
   ]
  },
  {
   "cell_type": "markdown",
   "id": "6463cff0-eb05-403a-949b-df4686189d80",
   "metadata": {},
   "source": [
    "# 2. Mathematical Operations"
   ]
  },
  {
   "cell_type": "markdown",
   "id": "6ac1a785-aed7-4fd1-ad20-a15a49dc396a",
   "metadata": {},
   "source": [
    "#### Example 1: Element-wise operations\n",
    "##### 1. Basic Arithmetic Operations\n",
    "##### You can easily perform element-wise operations on NumPy arrays."
   ]
  },
  {
   "cell_type": "code",
   "execution_count": 27,
   "id": "be226e6e-7073-4ace-8856-5c38d2f6fd4d",
   "metadata": {},
   "outputs": [
    {
     "name": "stdout",
     "output_type": "stream",
     "text": [
      "[11 12 13 14]\n"
     ]
    }
   ],
   "source": [
    "# Creating an array and performing element-wise operations\n",
    "array = np.array([1, 2, 3, 4])\n",
    "array = array + 10\n",
    "print(array)"
   ]
  },
  {
   "cell_type": "code",
   "execution_count": 29,
   "id": "86e757be-a201-4c32-bfdf-253a16d1edbf",
   "metadata": {},
   "outputs": [
    {
     "name": "stdout",
     "output_type": "stream",
     "text": [
      "Addition: [5 7 9]\n",
      "Subtraction: [-3 -3 -3]\n",
      "Multiplication: [ 4 10 18]\n",
      "Division: [0.25 0.4  0.5 ]\n"
     ]
    }
   ],
   "source": [
    "a = np.array([1, 2, 3])\n",
    "b = np.array([4, 5, 6])\n",
    "\n",
    "# Element-wise addition, subtraction, multiplication, and division\n",
    "add = a + b\n",
    "subtract = a - b\n",
    "multiply = a * b\n",
    "divide = a / b\n",
    "\n",
    "print(\"Addition:\", add)\n",
    "print(\"Subtraction:\", subtract)\n",
    "print(\"Multiplication:\", multiply)\n",
    "print(\"Division:\", divide)\n"
   ]
  },
  {
   "cell_type": "markdown",
   "id": "9f9e554d-a718-49fa-ae61-6b581148fddb",
   "metadata": {},
   "source": [
    "<!-- list is different from array -->"
   ]
  },
  {
   "cell_type": "markdown",
   "id": "33f340af-4ad1-4a30-953c-d33e6115d3dd",
   "metadata": {},
   "source": [
    "# Example 2: Matrix multiplication\n",
    "### Linear Algebra\n",
    "### You can perform matrix operations such as matrix multiplication, transpose, and finding the inverse."
   ]
  },
  {
   "cell_type": "markdown",
   "id": "6449f0ae-d36b-4b58-8598-37ea32d8f527",
   "metadata": {},
   "source": [
    "A = [a11   a12]        \n",
    "    [a21   a22]\n",
    "    \n",
    "B=  [b11    b12]\n",
    "    [b21    b22]\n",
    "    \n",
    "    \n",
    "A.B = [a11.b11+a12.b21    a11.b12+a12.b22]\n",
    "    [a21.b12+a22.b21      a21.b12+a22.b22]\n",
    "\n",
    "note: A.B != B.A"
   ]
  },
  {
   "cell_type": "code",
   "execution_count": 28,
   "id": "ffd3d4d7-dd15-4051-a5c8-0633a2dd6396",
   "metadata": {},
   "outputs": [
    {
     "name": "stdout",
     "output_type": "stream",
     "text": [
      "[[19 22]\n",
      " [43 50]]\n",
      "[[23 34]\n",
      " [31 46]]\n"
     ]
    }
   ],
   "source": [
    "# Example 2: Matrix multiplication\n",
    "matrix_a = np.array([[1,2],[3,4]])\n",
    "matrix_b = np.array([[5,6],[7,8]])\n",
    "prod = np.dot(matrix_a, matrix_b)\n",
    "print(prod)\n",
    "prod1 = np.dot(matrix_b, matrix_a)\n",
    "print(prod1)\n"
   ]
  },
  {
   "cell_type": "markdown",
   "id": "0a4217fb-a5d2-4d5e-b169-71d06ad68beb",
   "metadata": {},
   "source": [
    "## 3. Statistical Functions\n",
    "### NumPy includes built-in functions to compute common statistics, such as mean, median, and standard deviation."
   ]
  },
  {
   "cell_type": "code",
   "execution_count": 30,
   "id": "f3b138e4-b6e7-49c3-887a-aaf8bdb7f4bb",
   "metadata": {},
   "outputs": [
    {
     "name": "stdout",
     "output_type": "stream",
     "text": [
      "Mean: 3.0\n",
      "Median: 3.0\n",
      "Standard Deviation: 1.4142135623730951\n"
     ]
    }
   ],
   "source": [
    "# Statistical operations\n",
    "array = np.array([1, 2, 3, 4, 5])\n",
    "\n",
    "mean = np.mean(array)         # Mean\n",
    "median = np.median(array)     # Median\n",
    "std_dev = np.std(array)       # Standard deviation\n",
    "\n",
    "print(\"Mean:\", mean)\n",
    "print(\"Median:\", median)\n",
    "print(\"Standard Deviation:\", std_dev)\n"
   ]
  },
  {
   "cell_type": "markdown",
   "id": "d6730f16-a745-4783-a225-d17e63ab5004",
   "metadata": {},
   "source": [
    "# 4. Advanced Array Operations\n",
    "##### Array Slicing and Indexing : Slicing and indexing in NumPy let you retrieve or modify specific elements or portions of an array. While similar to slicing Python lists, NumPy provides more advanced and flexible functionality.\n",
    "\n",
    "### array[start:stop:step]\n"
   ]
  },
  {
   "cell_type": "code",
   "execution_count": 31,
   "id": "4eba29eb-3e10-448e-8b13-904c2f6caf3b",
   "metadata": {},
   "outputs": [
    {
     "name": "stdout",
     "output_type": "stream",
     "text": [
      "[1 2 3 4]\n"
     ]
    }
   ],
   "source": [
    "arr = np.array([0, 1, 2, 3, 4, 5])\n",
    "\n",
    "# Basic slicing\n",
    "sliced_arr = arr[1:5]   # Extract elements from index 1 to 4\n",
    "print(sliced_arr)\n"
   ]
  },
  {
   "cell_type": "markdown",
   "id": "23da3edf-56de-497a-899b-a7a9b636cc81",
   "metadata": {},
   "source": [
    "### 2. Slicing a 2D Array"
   ]
  },
  {
   "cell_type": "code",
   "execution_count": 34,
   "id": "937f8fc3-c834-4c2c-a752-2ff8f5bf125a",
   "metadata": {},
   "outputs": [
    {
     "name": "stdout",
     "output_type": "stream",
     "text": [
      "[[1 2 3]\n",
      " [4 5 6]\n",
      " [7 8 9]] \n",
      "\n",
      "[[2 3]\n",
      " [5 6]]\n"
     ]
    }
   ],
   "source": [
    "# Creating a 2D array\n",
    "arr_2d = np.array([[1, 2, 3], \n",
    "                   [4, 5, 6], \n",
    "                   [7, 8, 9]])\n",
    "print(arr_2d,'\\n')\n",
    "\n",
    "# Extract a subset of the array\n",
    "sliced_2d = arr_2d[0:2, 1:3]  # Extract rows 0-1 and columns 1-2\n",
    "print(sliced_2d)\n"
   ]
  },
  {
   "cell_type": "code",
   "execution_count": 37,
   "id": "9a7da951-66a6-4c0b-87a1-d0174124e105",
   "metadata": {},
   "outputs": [
    {
     "name": "stdout",
     "output_type": "stream",
     "text": [
      "[[2 3]\n",
      " [5 6]]\n"
     ]
    }
   ],
   "source": [
    "matrix = np.array([[1, 2, 3], [4, 5, 6], [7, 8, 9]])\n",
    "slice_2 = matrix[:2, 1:3]  # Access a submatrix\n",
    "print(slice_2)"
   ]
  },
  {
   "cell_type": "markdown",
   "id": "99284588-9b8f-47d1-8d8f-d20417051d9a",
   "metadata": {},
   "source": [
    "### 3. Using Step in Slicing"
   ]
  },
  {
   "cell_type": "code",
   "execution_count": 36,
   "id": "82045850-286f-4281-9163-473ee014eac1",
   "metadata": {},
   "outputs": [
    {
     "name": "stdout",
     "output_type": "stream",
     "text": [
      "[0 1 2 3 4 5 6 7] \n",
      "\n",
      "[0 2 4 6]\n"
     ]
    }
   ],
   "source": [
    "# Using step size\n",
    "arr = np.array([0, 1, 2, 3, 4, 5, 6, 7])\n",
    "print(arr,'\\n')\n",
    "\n",
    "# Slice with a step of 2\n",
    "sliced_step = arr[::2]\n",
    "print(sliced_step)\n"
   ]
  },
  {
   "cell_type": "markdown",
   "id": "f89a7eb5-bd1b-4c8d-9db8-172a6e53bcf1",
   "metadata": {},
   "source": [
    "### Filtering with Boolean Indexing in NumPy: \n",
    "##### Boolean indexing allows you to select elements from an array based on conditions. You create a boolean array (an array of True and False values) that indicates which elements meet the specified condition."
   ]
  },
  {
   "cell_type": "code",
   "execution_count": 38,
   "id": "286497b7-4c47-4bb9-b045-835cfd785d3a",
   "metadata": {},
   "outputs": [
    {
     "name": "stdout",
     "output_type": "stream",
     "text": [
      "[30 40 50]\n"
     ]
    }
   ],
   "source": [
    "array = np.array([10, 20, 30, 40, 50])\n",
    "filtered_array = array[array > 25]  # Filter elements greater than 25\n",
    "print(filtered_array)\n"
   ]
  },
  {
   "cell_type": "code",
   "execution_count": 39,
   "id": "8f4f4b72-51fe-4ad6-b8de-90b0e6b9cdb7",
   "metadata": {},
   "outputs": [
    {
     "name": "stdout",
     "output_type": "stream",
     "text": [
      "[]\n"
     ]
    }
   ],
   "source": [
    "# Filter elements greater than 15 and less than 35\n",
    "filtered_combined = arr[(arr > 15) & (arr < 35)]\n",
    "print(filtered_combined)\n"
   ]
  },
  {
   "cell_type": "markdown",
   "id": "58522452-401a-4b60-a818-493df7807573",
   "metadata": {},
   "source": [
    "# Mathematical Functions"
   ]
  },
  {
   "cell_type": "markdown",
   "id": "591222fa-eb4d-4584-82dd-52fa98677215",
   "metadata": {},
   "source": [
    "### sum"
   ]
  },
  {
   "cell_type": "code",
   "execution_count": 40,
   "id": "1511dcc9-a66f-4bd3-ae8e-9e2862452c8c",
   "metadata": {},
   "outputs": [
    {
     "name": "stdout",
     "output_type": "stream",
     "text": [
      "Sum: 15\n"
     ]
    }
   ],
   "source": [
    "# Creating an array\n",
    "arr = np.array([1, 2, 3, 4, 5])\n",
    "\n",
    "# Sum of all elements\n",
    "total_sum = np.sum(arr)\n",
    "print(\"Sum:\", total_sum)\n"
   ]
  },
  {
   "cell_type": "markdown",
   "id": "cc7b70a4-0dda-4322-8be2-8f33ffd94d19",
   "metadata": {},
   "source": [
    "## 2. Mean\n",
    "### Calculates the average of the elements in the array."
   ]
  },
  {
   "cell_type": "code",
   "execution_count": 41,
   "id": "b9531bc6-6eca-4a4c-8b6c-4108bb98ea7b",
   "metadata": {},
   "outputs": [
    {
     "name": "stdout",
     "output_type": "stream",
     "text": [
      "Mean: 3.0\n"
     ]
    }
   ],
   "source": [
    "# Mean of the array\n",
    "mean_value = np.mean(arr)\n",
    "print(\"Mean:\", mean_value)"
   ]
  },
  {
   "cell_type": "markdown",
   "id": "6b461b55-93e7-4940-b251-757a67b6f1f2",
   "metadata": {},
   "source": [
    "## 3. Minimum and Maximum\n",
    "#### Finds the minimum and maximum values in the array."
   ]
  },
  {
   "cell_type": "code",
   "execution_count": 43,
   "id": "fcffc044-0f63-4fdc-b490-378a13ec5d10",
   "metadata": {},
   "outputs": [
    {
     "name": "stdout",
     "output_type": "stream",
     "text": [
      "Minimum: 1\n",
      "Maximum: 5\n"
     ]
    }
   ],
   "source": [
    "# Minimum and maximum values\n",
    "min_value = np.min(arr)\n",
    "max_value = np.max(arr)\n",
    "\n",
    "print(\"Minimum:\", min_value)\n",
    "print(\"Maximum:\", max_value)\n"
   ]
  },
  {
   "cell_type": "markdown",
   "id": "e189adcc-1177-41cc-b126-c9f51d6af19c",
   "metadata": {},
   "source": [
    "### 4. Aggregation Along an Axis\n",
    "##### You can also compute aggregations along specific axes in multi-dimensional arrays."
   ]
  },
  {
   "cell_type": "code",
   "execution_count": 44,
   "id": "d919c915-25a4-4389-beab-125163685cf7",
   "metadata": {},
   "outputs": [
    {
     "name": "stdout",
     "output_type": "stream",
     "text": [
      "Sum along rows: [12 15 18]\n",
      "Sum along columns: [ 6 15 24]\n"
     ]
    }
   ],
   "source": [
    "# Creating a 2D array\n",
    "arr_2d = np.array([[1, 2, 3],\n",
    "                   [4, 5, 6],\n",
    "                   [7, 8, 9]])\n",
    "\n",
    "# Sum along rows (axis=0) and columns (axis=1)\n",
    "sum_rows = np.sum(arr_2d, axis=0)  # Sum of each column\n",
    "sum_columns = np.sum(arr_2d, axis=1)  # Sum of each row\n",
    "\n",
    "print(\"Sum along rows:\", sum_rows)\n",
    "print(\"Sum along columns:\", sum_columns)\n"
   ]
  },
  {
   "cell_type": "markdown",
   "id": "7a5eed9d-2a91-4840-8bb7-a202f92baee8",
   "metadata": {},
   "source": [
    "## Dot Product of Vectors in NumPy\n",
    "#### You can calculate the dot product using the numpy.dot() function or the @ operator in NumPy.\n",
    "\n",
    "#### Explanation :In the example above, the dot product is calculated as follows:\n",
    "\n",
    "### 1×4+2×5+3×6=4+10+18=32"
   ]
  },
  {
   "cell_type": "code",
   "execution_count": 45,
   "id": "3d2924f1-e39b-4964-92ac-c70f0532c8b4",
   "metadata": {},
   "outputs": [
    {
     "name": "stdout",
     "output_type": "stream",
     "text": [
      "Dot Product using numpy.dot(): 32\n"
     ]
    }
   ],
   "source": [
    "import numpy as np\n",
    "\n",
    "# Creating two 1D arrays (vectors)\n",
    "a = np.array([1, 2, 3])\n",
    "b = np.array([4, 5, 6])\n",
    "\n",
    "# Calculating the dot product\n",
    "dot_product = np.dot(a, b)\n",
    "print(\"Dot Product using numpy.dot():\", dot_product)\n"
   ]
  },
  {
   "cell_type": "code",
   "execution_count": 47,
   "id": "ee9a00ce-7574-4dc0-8c4b-e0f89eb1b723",
   "metadata": {},
   "outputs": [
    {
     "name": "stdout",
     "output_type": "stream",
     "text": [
      "[[19 22]\n",
      " [43 50]]\n"
     ]
    }
   ],
   "source": [
    "matrix_a = np.array([[1, 2], [3, 4]])\n",
    "matrix_b = np.array([[5, 6], [7, 8]])\n",
    "product = np.dot(matrix_a, matrix_b)\n",
    "print(product)"
   ]
  },
  {
   "cell_type": "code",
   "execution_count": 46,
   "id": "83e96a44-1c66-42f5-8ecb-ef95c4ea8198",
   "metadata": {},
   "outputs": [
    {
     "name": "stdout",
     "output_type": "stream",
     "text": [
      "Dot Product using @ operator: 32\n"
     ]
    }
   ],
   "source": [
    "# Calculating the dot product using the @ operator\n",
    "dot_product_operator = a @ b\n",
    "print(\"Dot Product using @ operator:\", dot_product_operator)\n"
   ]
  },
  {
   "cell_type": "markdown",
   "id": "e8395628-5130-49e1-ab42-faa17b5022ae",
   "metadata": {},
   "source": [
    "### Random Number Generation in NumPy\n",
    "#### 1. Generating Random Floats ---numpy.random.rand()."
   ]
  },
  {
   "cell_type": "code",
   "execution_count": 48,
   "id": "0d772f1e-f3a1-4971-b4f5-f7267dec85fe",
   "metadata": {},
   "outputs": [
    {
     "name": "stdout",
     "output_type": "stream",
     "text": [
      "Random Floats: [0.00157513 0.43793902 0.6778417  0.55802403 0.31613429]\n"
     ]
    }
   ],
   "source": [
    "import numpy as np\n",
    "\n",
    "# Generate an array of random floats (between 0 and 1)\n",
    "random_floats = np.random.rand(5)  # Generates 5 random floats\n",
    "print(\"Random Floats:\", random_floats)\n"
   ]
  },
  {
   "cell_type": "markdown",
   "id": "c4af0996-8a53-4518-b9fa-fbab143b8c6c",
   "metadata": {},
   "source": [
    "### 2. Generating Random Integers\n",
    "#### numpy.random.randint() --to generate random integers within a specified range."
   ]
  },
  {
   "cell_type": "code",
   "execution_count": 49,
   "id": "819b1911-ce75-4059-aea0-87631a8135c4",
   "metadata": {},
   "outputs": [
    {
     "name": "stdout",
     "output_type": "stream",
     "text": [
      "Random Integers: [49 39 17 37 38]\n"
     ]
    }
   ],
   "source": [
    "# Generate random integers between 10 and 50 (exclusive)\n",
    "random_integers = np.random.randint(10, 50, size=5)  # Generates 5 random integers\n",
    "print(\"Random Integers:\", random_integers)\n"
   ]
  },
  {
   "cell_type": "markdown",
   "id": "d6a49816-7fb5-4d99-8f32-25cab9900afe",
   "metadata": {},
   "source": [
    "### 3. Generating Random Samples from a Normal Distribution\n",
    "#### You can generate random numbers following a normal (Gaussian) distribution using numpy.\n",
    "### numpy.random.normal()."
   ]
  },
  {
   "cell_type": "code",
   "execution_count": 50,
   "id": "71e8ed43-1ca7-4a29-9601-5c7d7d2ef421",
   "metadata": {},
   "outputs": [
    {
     "name": "stdout",
     "output_type": "stream",
     "text": [
      "Normal Distribution Samples: [ 0.28833466  0.41546057  1.03864625 -0.89383402  1.01791425]\n"
     ]
    }
   ],
   "source": [
    "# Generate random samples from a normal distribution\n",
    "mean = 0      # Mean of the distribution\n",
    "std_dev = 1  # Standard deviation\n",
    "normal_samples = np.random.normal(mean, std_dev, size=5)  # Generates 5 samples\n",
    "print(\"Normal Distribution Samples:\", normal_samples)\n"
   ]
  },
  {
   "cell_type": "code",
   "execution_count": 53,
   "id": "329efa03-0348-46d2-b0a0-ecb233d8e77f",
   "metadata": {},
   "outputs": [
    {
     "name": "stdout",
     "output_type": "stream",
     "text": [
      "[[ 1.02578137 -1.3999101  -0.06864188]\n",
      " [ 0.03065506 -0.79112057  0.18495561]\n",
      " [ 1.97084576  1.73261228 -0.35264174]]\n"
     ]
    }
   ],
   "source": [
    "normal_array = np.random.randn(3, 3)  # 3x3 matrix of normally distributed numbers\n",
    "print(normal_array)\n"
   ]
  },
  {
   "cell_type": "markdown",
   "id": "bdbe014e-1b3f-4293-bbc7-863161ca0a66",
   "metadata": {},
   "source": [
    "### 4. Generating Random Samples from a Uniform Distribution\n",
    "#### You can generate random samples uniformly distributed between specified minimum and maximum\n",
    "### numpy.random.uniform()."
   ]
  },
  {
   "cell_type": "code",
   "execution_count": 51,
   "id": "d087d445-b664-4ec8-931c-13d1861b7360",
   "metadata": {},
   "outputs": [
    {
     "name": "stdout",
     "output_type": "stream",
     "text": [
      "Uniform Distribution Samples: [8.49480444 9.08725833 1.54284892 9.3703081  9.27532861]\n"
     ]
    }
   ],
   "source": [
    "# Generate random samples from a uniform distribution\n",
    "uniform_samples = np.random.uniform(low=0.0, high=10.0, size=5)  # Generates 5 samples\n",
    "print(\"Uniform Distribution Samples:\", uniform_samples)\n"
   ]
  },
  {
   "cell_type": "code",
   "execution_count": 52,
   "id": "2b0048cd-da16-47cf-b6aa-96bc2df1894a",
   "metadata": {},
   "outputs": [
    {
     "name": "stdout",
     "output_type": "stream",
     "text": [
      "[[3.96685107e-01 1.84469145e-01 4.86059686e-01]\n",
      " [8.27709625e-01 4.70411670e-01 8.10246440e-01]\n",
      " [4.31003225e-04 4.81777774e-01 6.43424908e-01]]\n"
     ]
    }
   ],
   "source": [
    "random_array = np.random.rand(3, 3)  # 3x3 matrix of random numbers\n",
    "print(random_array)\n"
   ]
  },
  {
   "cell_type": "markdown",
   "id": "049320b6-1650-4f39-986e-311c30818305",
   "metadata": {},
   "source": [
    "### 5. Setting a Random Seed\n",
    "#### To make the random numbers reproducible, you can set a seed using numpy.random.seed(). This ensures that the same random numbers are generated each time the code is run.\n",
    "### numpy.random.seed()"
   ]
  },
  {
   "cell_type": "code",
   "execution_count": 54,
   "id": "a124b6e1-0a6d-4192-90d9-30162bebef78",
   "metadata": {},
   "outputs": [
    {
     "name": "stdout",
     "output_type": "stream",
     "text": [
      "Random Floats with Seed: [0.37454012 0.95071431 0.73199394 0.59865848 0.15601864]\n"
     ]
    }
   ],
   "source": [
    "# Set a random seed\n",
    "np.random.seed(42)\n",
    "\n",
    "# Generate random floats\n",
    "random_floats_seeded = np.random.rand(5)\n",
    "print(\"Random Floats with Seed:\", random_floats_seeded)\n"
   ]
  },
  {
   "cell_type": "code",
   "execution_count": null,
   "id": "24b44d78-a9bb-4614-aab4-13e8d4d4ab62",
   "metadata": {},
   "outputs": [],
   "source": []
  }
 ],
 "metadata": {
  "kernelspec": {
   "display_name": "Python 3 (ipykernel)",
   "language": "python",
   "name": "python3"
  },
  "language_info": {
   "codemirror_mode": {
    "name": "ipython",
    "version": 3
   },
   "file_extension": ".py",
   "mimetype": "text/x-python",
   "name": "python",
   "nbconvert_exporter": "python",
   "pygments_lexer": "ipython3",
   "version": "3.9.0"
  }
 },
 "nbformat": 4,
 "nbformat_minor": 5
}
